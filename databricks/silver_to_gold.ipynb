{
 "cells": [
  {
   "cell_type": "markdown",
   "metadata": {
    "application/vnd.databricks.v1+cell": {
     "cellMetadata": {},
     "inputWidgets": {},
     "nuid": "8d2d49ba-abec-40cf-90fd-2ca57110a0f6",
     "showTitle": false,
     "tableResultSettingsMap": {},
     "title": ""
    }
   },
   "source": [
    "### Combine silver layer tables and create a Report Data Frame"
   ]
  },
  {
   "cell_type": "code",
   "execution_count": 0,
   "metadata": {
    "application/vnd.databricks.v1+cell": {
     "cellMetadata": {
      "byteLimit": 2048000,
      "rowLimit": 10000
     },
     "inputWidgets": {},
     "nuid": "9001ad74-433d-47a6-b8cf-b1bcc190e6ab",
     "showTitle": false,
     "tableResultSettingsMap": {},
     "title": ""
    }
   },
   "outputs": [],
   "source": [
    "import datetime\n",
    "\n",
    "\n",
    "reservations_df = spark.read.format('delta').load(f'{SILVER_LAYER_PATH}/reservations')\n",
    "flights_df = spark.read.format('delta').load(f'{SILVER_LAYER_PATH}/flights')\n",
    "hotels_df = spark.read.format('delta').load(f'{SILVER_LAYER_PATH}/hotels')\n",
    "customers_df = spark.read.format('delta').load(f'{SILVER_LAYER_PATH}/customers')\n",
    "\n",
    "# Join all tables to create final report table\n",
    "report_df = reservations_df \\\n",
    "    .join(flights_df, reservations_df.flight_id == flights_df.flight_id, how='left') \\\n",
    "    .join(hotels_df, reservations_df.hotel_id == hotels_df.hotel_id, how='left') \\\n",
    "    .join(customers_df, reservations_df.customer_id == customers_df.customer_id, how='left')\n",
    "\n",
    "# Select final report table columns in order\n",
    "report_df = report_df.select(\n",
    "    'reservation_id',\n",
    "    'reservation_date',\n",
    "    'customer_gender',\n",
    "    'customer_age',\n",
    "    'flight_departure_date',\n",
    "    'flight_airline_name',\n",
    "    'flight_plane_model',\n",
    "    'hotel_stars',\n",
    "    'room_type',\n",
    "    'payment_method',\n",
    "    'total_price_amount',\n",
    "    'total_price_currency',\n",
    "    'total_price_amount_in_eur',\n",
    ")\n",
    "\n",
    "# Save report table to gold layer\n",
    "report_df.write \\\n",
    "    .format('delta') \\\n",
    "    .mode('overwrite') \\\n",
    "    .option('mergeSchema', 'true') \\\n",
    "    .save(f'{GOLD_LAYER_PATH}/report_table')\n",
    "\n",
    "print(f'{datetime.datetime.now().strftime(\"%Y-%m-%d %H:%M:%S\")} | Table \"report_table\" saved to gold layer.')"
   ]
  }
 ],
 "metadata": {
  "application/vnd.databricks.v1+notebook": {
   "computePreferences": null,
   "dashboards": [],
   "environmentMetadata": {
    "base_environment": "",
    "client": "1"
   },
   "language": "python",
   "notebookMetadata": {
    "pythonIndentUnit": 4
   },
   "notebookName": "silver_to_gold",
   "widgets": {}
  },
  "language_info": {
   "name": "python"
  }
 },
 "nbformat": 4,
 "nbformat_minor": 0
}
